{
 "cells": [
  {
   "cell_type": "code",
   "execution_count": 1,
   "metadata": {
    "collapsed": true
   },
   "outputs": [],
   "source": [
    "import numpy as np\n",
    "import matplotlib.pyplot as mp\n",
    "%matplotlib inline"
   ]
  },
  {
   "cell_type": "code",
   "execution_count": 7,
   "metadata": {
    "collapsed": true
   },
   "outputs": [],
   "source": [
    "clusters = np.array(['M4, ''NGC3201', 'M5', 'M15', 'M14'])\n",
    "slopes3p6 = np.array([-2.30, -2.59, -2.24, -2.61, -2.78])\n",
    "errs3p6 = np.array([0.11, 0.14, 0.31, 0.27, 0.57])\n",
    "slopes4p5 = np.array([-2.34, -2.58, -2.37, -2.68, -2.00])\n",
    "errs4p5 = np.array([0.10, 0.15, 0.28, 0.26, 0.55])\n",
    "\n",
    "cluster_feh = np.array([-1.16, -1.59, -1.29, -2.37, -1.28])\n",
    "\n",
    "theory_slope3p6 = -2.251\n",
    "theory_err3p6 = 0.018\n",
    "theory_slope4p5 = -2.239\n",
    "theory_err4p5 = 0.018"
   ]
  },
  {
   "cell_type": "code",
   "execution_count": 29,
   "metadata": {},
   "outputs": [
    {
     "data": {
      "text/plain": [
       "<Container object of 3 artists>"
      ]
     },
     "execution_count": 29,
     "metadata": {},
     "output_type": "execute_result"
    },
    {
     "data": {
      "image/png": "[encoded data removed]",
      "text/plain": [
       "<matplotlib.figure.Figure at 0x113f24ed0>"
      ]
     },
     "metadata": {},
     "output_type": "display_data"
    }
   ],
   "source": [
    "x = np.arange(5)\n",
    "mp.plot([0, 4], [theory_slope3p6, theory_slope3p6], color='k')\n",
    "mp.plot([0, 4], [theory_slope4p5, theory_slope4p5], color='r')\n",
    "mp.errorbar(x, slopes3p6, yerr=errs3p6, fmt='o', color='b')\n",
    "mp.errorbar(x, slopes4p5, yerr=errs4p5, fmt='o', color='g')\n"
   ]
  },
  {
   "cell_type": "code",
   "execution_count": 12,
   "metadata": {},
   "outputs": [
    {
     "name": "stdout",
     "output_type": "stream",
     "text": [
      "-2.42371369829 0.0062163480035\n",
      "-2.42531140615 0.00570456412592\n"
     ]
    }
   ],
   "source": [
    "avg_slope3p6 = np.average(slopes3p6, weights=1/errs3p6**2)\n",
    "avg_slope4p5 = np.average(slopes4p5, weights=1/errs4p5**2)\n",
    "avg_err3p6 = 1/np.sum(1/errs3p6**2)\n",
    "avg_err4p5 = 1/np.sum(1/errs4p5**2)\n",
    "print avg_slope3p6, avg_err3p6\n",
    "print avg_slope4p5, avg_err4p5"
   ]
  },
  {
   "cell_type": "code",
   "execution_count": 19,
   "metadata": {},
   "outputs": [
    {
     "data": {
      "text/plain": [
       "<matplotlib.text.Text at 0x1139066d0>"
      ]
     },
     "execution_count": 19,
     "metadata": {},
     "output_type": "execute_result"
    },
    {
     "data": {
      "image/png": "[encoded data removed]",
      "text/plain": [
       "<matplotlib.figure.Figure at 0x11391e710>"
      ]
     },
     "metadata": {},
     "output_type": "display_data"
    }
   ],
   "source": [
    "galactic_rrl = np.array(['RZ Cep', 'XZ Cyg', 'UV Oct', 'RR Lyr', 'SU Dra'])\n",
    "galactic_avgs3p6 = np.array([7.891, 8.676, 8.200, 6.486, 8.616])\n",
    "galactic_errs3p6 = np.array([0.007, 0.016, 0.014, 0.014, 0.019])\n",
    "galactic_avgs4p5 = np.array([7.865, 8.645, 8.174, 6.468, 8.588])\n",
    "galactic_errs4p5 = np.array([0.006, 0.017, 0.014, 0.014, 0.019])\n",
    "galactic_periods = np.array([0.308645, 0.466579, 0.542600263, 0.566805, 0.660419])\n",
    "galactic_ebv = np.array([0.252, 0.100, 0.090, 0.042, 0.010])\n",
    "galactic_a3p6 = 3.1*galactic_ebv*0.060\n",
    "galactic_a4p5 = 3.1*galactic_ebv*0.051\n",
    "\n",
    "hst_parallax = np.array([2.54, 1.67, 1.71, 3.77, 1.42])\n",
    "hst_parallax_err = np.array([0.19, 0.17, 0.10, 0.13, 0.16])\n",
    "hst_dist = 1/(hst_parallax*1e-3)\n",
    "hst_mu = 5*np.log10(hst_dist) - 5.\n",
    "mu_plus = 5*np.log10(1e3 / (hst_parallax + hst_parallax_err)) - 5\n",
    "mu_minus = 5*np.log10(1e3 / (hst_parallax - hst_parallax_err)) - 5\n",
    "hst_mu_err = (mu_minus - mu_plus) / 2.\n",
    "\n",
    "\n",
    "\n",
    "galactic_M3p6 = galactic_avgs3p6 - hst_mu - galactic_a3p6\n",
    "galactic_M4p5 = galactic_avgs4p5 - hst_mu - galactic_a4p5\n",
    "galactic_M3p6_err = np.sqrt(hst_mu_err**2+galactic_errs3p6**2)\n",
    "galactic_M4p5_err = np.sqrt(hst_mu_err**2+galactic_errs4p5**2)\n",
    "\n",
    "fun_periods = np.log10(galactic_periods)\n",
    "fun_periods[0] += 0.127\n",
    "fig = mp.figure()\n",
    "ax = fig.add_subplot(111)\n",
    "ax.errorbar(fun_periods, galactic_M3p6, yerr = galactic_M3p6_err, fmt='o')\n",
    "ax.errorbar(fun_periods, galactic_M4p5, yerr = galactic_M4p5_err, fmt='o')\n",
    "ax.set_ylim((np.max(galactic_M3p6)+0.2, np.min(galactic_M3p6)-0.2))\n",
    "ax.set_xlabel('log P')\n",
    "ax.set_ylabel('Mag')"
   ]
  },
  {
   "cell_type": "code",
   "execution_count": 21,
   "metadata": {},
   "outputs": [
    {
     "name": "stdout",
     "output_type": "stream",
     "text": [
      "-1.20461940011 0.00324988686292\n",
      "-1.22463153976 0.00324983411527\n"
     ]
    }
   ],
   "source": [
    "# calculate ZP\n",
    "zps_3p6 = galactic_M3p6 + 2.424 * fun_periods\n",
    "zps_4p5 = galactic_M4p5 + 2.425 * fun_periods\n",
    "\n",
    "zp_3p6 = np.average(zps_3p6, weights=1/galactic_M3p6_err**2)\n",
    "zp_3p6_err = 1/np.sum(1/galactic_M3p6_err**2)\n",
    "zp_4p5 = np.average(zps_4p5, weights=1/galactic_M4p5_err**2)\n",
    "zp_4p5_err = 1/np.sum(1/galactic_M4p5_err**2)\n",
    "print zp_3p6, zp_3p6_err\n",
    "print zp_4p5, zp_4p5_err"
   ]
  },
  {
   "cell_type": "code",
   "execution_count": 22,
   "metadata": {},
   "outputs": [
    {
     "data": {
      "text/plain": [
       "[<matplotlib.lines.Line2D at 0x113ab0950>]"
      ]
     },
     "execution_count": 22,
     "metadata": {},
     "output_type": "execute_result"
    },
    {
     "data": {
      "image/png": "[encoded data removed]",
      "text/plain": [
       "<matplotlib.figure.Figure at 0x1135f1590>"
      ]
     },
     "metadata": {},
     "output_type": "display_data"
    }
   ],
   "source": [
    "fig = mp.figure()\n",
    "ax = fig.add_subplot(111)\n",
    "ax.errorbar(fun_periods, galactic_M3p6, yerr = galactic_M3p6_err, fmt='o')\n",
    "ax.errorbar(fun_periods, galactic_M4p5, yerr = galactic_M4p5_err, fmt='o')\n",
    "ax.set_ylim((np.max(galactic_M3p6)+0.2, np.min(galactic_M3p6)-0.2))\n",
    "ax.set_xlabel('log P')\n",
    "ax.set_ylabel('Mag')\n",
    "y_3p6 = -2.424*fun_periods - 1.205\n",
    "y_4p5 = -2.425*fun_periods - 1.225\n",
    "ax.plot(fun_periods, y_3p6)\n",
    "ax.plot(fun_periods, y_4p5)\n"
   ]
  },
  {
   "cell_type": "code",
   "execution_count": null,
   "metadata": {
    "collapsed": true
   },
   "outputs": [],
   "source": []
  }
 ],
 "metadata": {
  "kernelspec": {
   "display_name": "Python 2",
   "language": "python",
   "name": "python2"
  },
  "language_info": {
   "codemirror_mode": {
    "name": "ipython",
    "version": 2
   },
   "file_extension": ".py",
   "mimetype": "text/x-python",
   "name": "python",
   "nbconvert_exporter": "python",
   "pygments_lexer": "ipython2",
   "version": "2.7.13"
  }
 },
 "nbformat": 4,
 "nbformat_minor": 2
}
