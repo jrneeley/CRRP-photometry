{
 "cells": [
  {
   "cell_type": "markdown",
   "metadata": {},
   "source": [
    "# Calibration"
   ]
  },
  {
   "cell_type": "code",
   "execution_count": 4,
   "metadata": {
    "collapsed": true
   },
   "outputs": [],
   "source": [
    "import calibration\n"
   ]
  },
  {
   "cell_type": "code",
   "execution_count": 5,
   "metadata": {
    "collapsed": true
   },
   "outputs": [],
   "source": [
    "optical_folder = '/Users/jrneeley/CRRP/OpticalCatalogs/'\n",
    "target = 'NGC3201'\n",
    "data_folder = '/Users/jrneeley/CRRP/'+target+'/'\n"
   ]
  },
  {
   "cell_type": "code",
   "execution_count": 3,
   "metadata": {},
   "outputs": [
    {
     "name": "stdout",
     "output_type": "stream",
     "text": [
      "Reading optical catalog for NGC3201...\n",
      "Finished reading optical catalog.\n",
      "Writing files...\n",
      "Reading optical catalog for NGC3201...\n",
      "Finished reading optical catalog.\n",
      "Writing files...\n"
     ]
    }
   ],
   "source": [
    "calibration.find_stars_in_cat(optical_folder, target, 'I1', folder=data_folder)\n",
    "calibration.find_stars_in_cat(optical_folder, target, 'I2', folder=data_folder)"
   ]
  },
  {
   "cell_type": "markdown",
   "metadata": {},
   "source": [
    "## Run aperture photometry in IDL"
   ]
  },
  {
   "cell_type": "code",
   "execution_count": 6,
   "metadata": {},
   "outputs": [
    {
     "data": {
      "text/plain": [
       "<matplotlib.figure.Figure at 0x11afbc2d0>"
      ]
     },
     "metadata": {},
     "output_type": "display_data"
    },
    {
     "data": {
      "image/png": "[encoded data removed]",
      "text/plain": [
       "<matplotlib.figure.Figure at 0x11b019e10>"
      ]
     },
     "metadata": {},
     "output_type": "display_data"
    },
    {
     "name": "stdout",
     "output_type": "stream",
     "text": [
      "Maximum number of neighbors?: 5\n",
      "Maximum standard deviation?:0.07\n",
      "27 final calibration stars.\n",
      "Mean, median zero point and standard deviation:\n",
      "-2.02101270545 -2.02827083333 0.0232462255906\n"
     ]
    }
   ],
   "source": [
    "calibration.find_zp('I1', verbose=0, folder=data_folder)"
   ]
  },
  {
   "cell_type": "code",
   "execution_count": 8,
   "metadata": {},
   "outputs": [],
   "source": [
    "calibration.apply_calibration('I2', -2.122, folder=data_folder)"
   ]
  },
  {
   "cell_type": "code",
   "execution_count": null,
   "metadata": {
    "collapsed": true
   },
   "outputs": [],
   "source": []
  }
 ],
 "metadata": {
  "kernelspec": {
   "display_name": "Python 2",
   "language": "python",
   "name": "python2"
  },
  "language_info": {
   "codemirror_mode": {
    "name": "ipython",
    "version": 2
   },
   "file_extension": ".py",
   "mimetype": "text/x-python",
   "name": "python",
   "nbconvert_exporter": "python",
   "pygments_lexer": "ipython2",
   "version": "2.7.13"
  }
 },
 "nbformat": 4,
 "nbformat_minor": 2
}
