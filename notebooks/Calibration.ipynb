{
 "cells": [
  {
   "cell_type": "markdown",
   "metadata": {},
   "source": [
    "# Calibration"
   ]
  },
  {
   "cell_type": "code",
   "execution_count": 1,
   "metadata": {
    "collapsed": true
   },
   "outputs": [],
   "source": [
    "import matplotlib.pyplot as mp\n",
    "import numpy as np\n",
    "%matplotlib inline "
   ]
  },
  {
   "cell_type": "code",
   "execution_count": 12,
   "metadata": {},
   "outputs": [],
   "source": [
    "clusters = ['NGC3201', 'NGC5904', 'NGC6121', 'NGC6402', 'NGC7078']\n",
    "I1_zps = np.array([-2.076, -2.077, -2.060, -2.059, -2.075])\n",
    "I1_zp_ers = np.array([0.032, 0.035, 0.034, 0.040, 0.019])\n",
    "I2_zps = np.array([-2.192, -2.172, -2.173, -2.186, -2.186])\n",
    "I2_zp_ers = np.array([0.030, 0.048, 0.028, 0.052, 0.032])\n",
    "\n",
    "x = np.arange(5)"
   ]
  },
  {
   "cell_type": "code",
   "execution_count": 18,
   "metadata": {},
   "outputs": [
    {
     "name": "stdout",
     "output_type": "stream",
     "text": [
      "-2.07163530776 0.000165206679177 0.014310835056\n"
     ]
    },
    {
     "data": {
      "image/png": "[encoded data removed]",
      "text/plain": [
       "<matplotlib.figure.Figure at 0x1114b5dd0>"
      ]
     },
     "metadata": {},
     "output_type": "display_data"
    }
   ],
   "source": [
    "weights = 1/I1_zp_ers**2\n",
    "mean = np.sum(I1_zps*weights)/np.sum(weights)\n",
    "err = 1/np.sum(weights)\n",
    "\n",
    "fig, ax = mp.subplots(1,1)\n",
    "ax.set_xticks(x)\n",
    "ax.set_xticklabels(clusters)\n",
    "ax.errorbar(x, I1_zps, yerr=I1_zp_ers, fmt='o')\n",
    "print mean, err, np.mean(I1_zp_ers)/np.sqrt(len(I1_zp_ers))"
   ]
  },
  {
   "cell_type": "code",
   "execution_count": 19,
   "metadata": {},
   "outputs": [
    {
     "name": "stdout",
     "output_type": "stream",
     "text": [
      "-2.18216241322 0.000239978838963 0.016994116629\n"
     ]
    },
    {
     "data": {
      "image/png": "[encoded data removed]",
      "text/plain": [
       "<matplotlib.figure.Figure at 0x11157e110>"
      ]
     },
     "metadata": {},
     "output_type": "display_data"
    }
   ],
   "source": [
    "weights = 1/I2_zp_ers**2\n",
    "mean = np.sum(I2_zps*weights)/np.sum(weights)\n",
    "err = 1/np.sum(weights)\n",
    "\n",
    "fig, ax = mp.subplots(1,1)\n",
    "ax.set_xticks(x)\n",
    "ax.set_xticklabels(clusters)\n",
    "ax.errorbar(x, I2_zps, yerr=I2_zp_ers, fmt='o')\n",
    "print mean, err, np.mean(I2_zp_ers)/np.sqrt(len(I2_zp_ers))"
   ]
  },
  {
   "cell_type": "code",
   "execution_count": null,
   "metadata": {
    "collapsed": true
   },
   "outputs": [],
   "source": []
  }
 ],
 "metadata": {
  "kernelspec": {
   "display_name": "Python 2",
   "language": "python",
   "name": "python2"
  },
  "language_info": {
   "codemirror_mode": {
    "name": "ipython",
    "version": 2
   },
   "file_extension": ".py",
   "mimetype": "text/x-python",
   "name": "python",
   "nbconvert_exporter": "python",
   "pygments_lexer": "ipython2",
   "version": "2.7.13"
  }
 },
 "nbformat": 4,
 "nbformat_minor": 2
}
