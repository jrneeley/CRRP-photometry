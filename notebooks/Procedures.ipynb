{
 "cells": [
  {
   "cell_type": "code",
   "execution_count": 1,
   "metadata": {
    "collapsed": true
   },
   "outputs": [],
   "source": [
    "import read_dao\n",
    "import numpy as np\n",
    "#import statsmodels.api as sm\n",
    "import lightcurves\n",
    "import glob\n",
    "import sys\n",
    "import variables"
   ]
  },
  {
   "cell_type": "code",
   "execution_count": 1,
   "metadata": {},
   "outputs": [],
   "source": [
    "import lightcurves\n",
    "import variables\n",
    "import numpy as np\n",
    "import analysis_routines as ar\n",
    "import optical\n"
   ]
  },
  {
   "cell_type": "code",
   "execution_count": 2,
   "metadata": {
    "collapsed": true
   },
   "outputs": [],
   "source": [
    "\n",
    "optical_dir = '/Volumes/Annie/CRRP/OpticalCatalogs/'"
   ]
  },
  {
   "cell_type": "code",
   "execution_count": 3,
   "metadata": {},
   "outputs": [
    {
     "name": "stdout",
     "output_type": "stream",
     "text": [
      "(509.13837952932909, 0.8313948383945754)\n"
     ]
    },
    {
     "data": {
      "text/plain": [
       "14.633497809325224"
      ]
     },
     "execution_count": 3,
     "metadata": {},
     "output_type": "execute_result"
    }
   ],
   "source": [
    "lcv='V16'\n",
    "lcv_file = folder+'lcvs/optical/'+target+lcv+'.lcv'\n",
    "U, B, V, R, I = lightcurves.read_optical_lcv(lcv_file)\n",
    "var = variables.welch_stetson_indices(V[0], V[1], V[2])\n",
    "print var\n",
    "variables.robust_weighted_mean(V[0], V[1])"
   ]
  },
  {
   "cell_type": "code",
   "execution_count": 4,
   "metadata": {},
   "outputs": [
    {
     "name": "stdout",
     "output_type": "stream",
     "text": [
      "Reading optical catalog for NGC5904...\n",
      "Finished reading optical catalog.\n"
     ]
    },
    {
     "name": "stderr",
     "output_type": "stream",
     "text": [
      "[========================================================================] 100%\r"
     ]
    },
    {
     "name": "stdout",
     "output_type": "stream",
     "text": [
      "Reading optical catalog for NGC6441...\n",
      "Finished reading optical catalog.\n"
     ]
    },
    {
     "name": "stderr",
     "output_type": "stream",
     "text": [
      "[========================================================================] 100%\r"
     ]
    },
    {
     "name": "stdout",
     "output_type": "stream",
     "text": [
      "Reading optical catalog for NGC6121...\n",
      "Finished reading optical catalog.\n"
     ]
    },
    {
     "name": "stderr",
     "output_type": "stream",
     "text": [
      "[========================================================================] 100%\r"
     ]
    }
   ],
   "source": [
    "target = 'NGC5904'\n",
    "folder = '/Volumes/Annie/CRRP/'+target+'/'\n",
    "ids, xcat, ycat, ra, dec = optical.read_optical_fnl(optical_dir, target)\n",
    "ar.make_mir_catalog(['I1', 'I2'], target, ids, data_dir=folder)\n",
    "target = 'NGC6441'\n",
    "folder = '/Volumes/Annie/CRRP/'+target+'/'\n",
    "ids, xcat, ycat, ra, dec = optical.read_optical_fnl(optical_dir, target)\n",
    "ar.make_mir_catalog(['I1', 'I2'], target, ids, data_dir=folder)\n",
    "target = 'NGC6121'\n",
    "folder = '/Volumes/Annie/CRRP/'+target+'/'\n",
    "ids, xcat, ycat, ra, dec = optical.read_optical_fnl(optical_dir, target)\n",
    "ar.make_mir_catalog(['I1', 'I2'], target, ids, data_dir=folder)"
   ]
  },
  {
   "cell_type": "code",
   "execution_count": 4,
   "metadata": {},
   "outputs": [
    {
     "name": "stdout",
     "output_type": "stream",
     "text": [
      "66095\n",
      "[ 17.78   17.917  17.517  18.29   17.631  17.722  18.153  17.426  17.756\n",
      "  17.912  17.63   17.677  17.474  17.531  17.957  17.335  18.135  17.656\n",
      "  17.701  18.089  17.189  18.17   17.932  18.054  17.928  17.544  17.967\n",
      "  17.625  17.918  17.647  17.742  18.23   18.06   18.241  17.775  18.214\n",
      "  18.103  17.848  17.935  18.72   17.586  17.807  18.26   17.591  18.432\n",
      "  17.196  17.628  18.302  17.905  17.997  17.322  18.457  18.891  17.527\n",
      "  17.776  18.672  17.478  17.695  17.963]\n",
      "[ 0.2923  0.3141  0.3467  0.522   0.2784  0.3297  0.4135  0.256   0.3205\n",
      "  0.4336  0.3312  0.3345  0.3014  0.3515  0.335   0.2867  0.3896  0.2978\n",
      "  0.2818  0.4247  0.2864  0.3029  0.3353  0.2917  0.3277  0.3222  0.3113\n",
      "  0.2493  0.3468  0.3062  0.3179  0.2947  0.2601  0.426   0.2941  0.4319\n",
      "  0.4492  0.3567  0.3315  0.5835  0.3094  0.2407  0.3692  0.2376  0.5584\n",
      "  0.3163  0.4042  0.542   0.337   0.5364  0.307   0.416   0.6605  0.633\n",
      "  0.3752  0.4319  0.3339  0.2985  1.2752]\n"
     ]
    },
    {
     "data": {
      "text/plain": [
       "(-0.083999560684748634, 0.8209637569492072)"
      ]
     },
     "execution_count": 4,
     "metadata": {},
     "output_type": "execute_result"
    }
   ],
   "source": [
    "ind=66094\n",
    "print phot_data['id'][ind]\n",
    "all_mags = phot_data['psf_mag'][ind]\n",
    "all_errs = phot_data['psf_err'][ind]\n",
    "all_times = phot_data['mjd'][ind]\n",
    "good_mags = all_mags[~np.isnan(all_mags)]\n",
    "good_errs = all_errs[~np.isnan(all_mags)]\n",
    "good_times = all_times[~np.isnan(all_mags)]\n",
    "print good_mags\n",
    "print good_errs\n",
    "\n",
    "variables.robust_weighted_mean(good_mags, good_errs)\n",
    "\n",
    "variables.welch_stetson_indices(good_mags, good_errs, good_times)"
   ]
  },
  {
   "cell_type": "markdown",
   "metadata": {},
   "source": [
    "# Search for variables in Clement catalog\n",
    "\n",
    "Finds all possible matches within 3 arcsec and plots their raw lightcurve"
   ]
  },
  {
   "cell_type": "code",
   "execution_count": 3,
   "metadata": {},
   "outputs": [
    {
     "name": "stdout",
     "output_type": "stream",
     "text": [
      "Reading optical catalog for NGC6402...\n",
      "Finished reading optical catalog.\n",
      "V3 - 5 matches\n",
      "Writing to file...\n"
     ]
    },
    {
     "ename": "IOError",
     "evalue": "[Errno 2] No such file or directory: 'mosaic_lcvs/V3.lcv'",
     "output_type": "error",
     "traceback": [
      "\u001b[0;31m---------------------------------------------------------------------------\u001b[0m",
      "\u001b[0;31mIOError\u001b[0m                                   Traceback (most recent call last)",
      "\u001b[0;32m<ipython-input-3-daf8577b99e4>\u001b[0m in \u001b[0;36m<module>\u001b[0;34m()\u001b[0m\n\u001b[0;32m----> 1\u001b[0;31m \u001b[0mvariables\u001b[0m\u001b[0;34m.\u001b[0m\u001b[0mfind_variables_by_coord_mosaic\u001b[0m\u001b[0;34m(\u001b[0m\u001b[0moptical_folder\u001b[0m\u001b[0;34m,\u001b[0m \u001b[0mtarget\u001b[0m\u001b[0;34m,\u001b[0m \u001b[0mworking_folder\u001b[0m\u001b[0;34m=\u001b[0m\u001b[0mfolder\u001b[0m\u001b[0;34m)\u001b[0m\u001b[0;34m\u001b[0m\u001b[0m\n\u001b[0m",
      "\u001b[0;32m/Users/jrneeley/CRRP/python/CRRP-photometry/variables.pyc\u001b[0m in \u001b[0;36mfind_variables_by_coord_mosaic\u001b[0;34m(optical_folder, target, working_folder)\u001b[0m\n\u001b[1;32m    101\u001b[0m             \u001b[0;32mif\u001b[0m \u001b[0mind\u001b[0m \u001b[0;34m==\u001b[0m \u001b[0;36m0\u001b[0m\u001b[0;34m:\u001b[0m\u001b[0;34m\u001b[0m\u001b[0m\n\u001b[1;32m    102\u001b[0m                 \u001b[0mvariable_star\u001b[0m \u001b[0;34m=\u001b[0m \u001b[0;34m'V'\u001b[0m\u001b[0;34m+\u001b[0m\u001b[0mdata\u001b[0m\u001b[0;34m[\u001b[0m\u001b[0;34m'id'\u001b[0m\u001b[0;34m]\u001b[0m\u001b[0;34m[\u001b[0m\u001b[0mobj\u001b[0m\u001b[0;34m]\u001b[0m\u001b[0;34m\u001b[0m\u001b[0m\n\u001b[0;32m--> 103\u001b[0;31m                 \u001b[0mlightcurves\u001b[0m\u001b[0;34m.\u001b[0m\u001b[0mmake_mosaic_lcv\u001b[0m\u001b[0;34m(\u001b[0m\u001b[0;34m[\u001b[0m\u001b[0;34m'I1'\u001b[0m\u001b[0;34m]\u001b[0m\u001b[0;34m,\u001b[0m \u001b[0;34m[\u001b[0m\u001b[0mvariable_star\u001b[0m\u001b[0;34m]\u001b[0m\u001b[0;34m,\u001b[0m \u001b[0;34m[\u001b[0m\u001b[0mstar\u001b[0m\u001b[0;34m]\u001b[0m\u001b[0;34m)\u001b[0m\u001b[0;34m\u001b[0m\u001b[0m\n\u001b[0m\u001b[1;32m    104\u001b[0m             \u001b[0;32mif\u001b[0m \u001b[0mind\u001b[0m \u001b[0;34m<=\u001b[0m \u001b[0;36m8\u001b[0m \u001b[0;32mand\u001b[0m \u001b[0mind\u001b[0m \u001b[0;34m>\u001b[0m \u001b[0;36m0\u001b[0m\u001b[0;34m:\u001b[0m\u001b[0;34m\u001b[0m\u001b[0m\n\u001b[1;32m    105\u001b[0m                 \u001b[0mvariable_star\u001b[0m \u001b[0;34m=\u001b[0m \u001b[0;34m'V'\u001b[0m\u001b[0;34m+\u001b[0m\u001b[0mdata\u001b[0m\u001b[0;34m[\u001b[0m\u001b[0;34m'id'\u001b[0m\u001b[0;34m]\u001b[0m\u001b[0;34m[\u001b[0m\u001b[0mobj\u001b[0m\u001b[0;34m]\u001b[0m\u001b[0;34m+\u001b[0m\u001b[0mcode\u001b[0m\u001b[0;34m[\u001b[0m\u001b[0mind\u001b[0m\u001b[0;34m-\u001b[0m\u001b[0;36m1\u001b[0m\u001b[0;34m]\u001b[0m\u001b[0;34m\u001b[0m\u001b[0m\n",
      "\u001b[0;32m/Users/jrneeley/CRRP/python/CRRP-photometry/lightcurves.pyc\u001b[0m in \u001b[0;36mmake_mosaic_lcv\u001b[0;34m(channels, stars, dao_ids)\u001b[0m\n\u001b[1;32m    115\u001b[0m                 ('c5', float), ('c6', float), ('c7', float), ('c8', float)])\n\u001b[1;32m    116\u001b[0m             \u001b[0;32mif\u001b[0m \u001b[0mchannel\u001b[0m \u001b[0;34m==\u001b[0m \u001b[0mchannels\u001b[0m\u001b[0;34m[\u001b[0m\u001b[0;36m0\u001b[0m\u001b[0;34m]\u001b[0m\u001b[0;34m:\u001b[0m\u001b[0;34m\u001b[0m\u001b[0m\n\u001b[0;32m--> 117\u001b[0;31m                 \u001b[0mf_handle\u001b[0m \u001b[0;34m=\u001b[0m \u001b[0mopen\u001b[0m\u001b[0;34m(\u001b[0m\u001b[0;34m'mosaic_lcvs/'\u001b[0m\u001b[0;34m+\u001b[0m\u001b[0mstars\u001b[0m\u001b[0;34m[\u001b[0m\u001b[0mind\u001b[0m\u001b[0;34m]\u001b[0m\u001b[0;34m+\u001b[0m\u001b[0;34m'.lcv'\u001b[0m\u001b[0;34m,\u001b[0m \u001b[0;34m'w'\u001b[0m\u001b[0;34m)\u001b[0m\u001b[0;34m\u001b[0m\u001b[0m\n\u001b[0m\u001b[1;32m    118\u001b[0m             \u001b[0;32melse\u001b[0m\u001b[0;34m:\u001b[0m\u001b[0;34m\u001b[0m\u001b[0m\n\u001b[1;32m    119\u001b[0m                 \u001b[0mf_handle\u001b[0m \u001b[0;34m=\u001b[0m \u001b[0mopen\u001b[0m\u001b[0;34m(\u001b[0m\u001b[0;34m'mosaic_lcvs/'\u001b[0m\u001b[0;34m+\u001b[0m\u001b[0mstars\u001b[0m\u001b[0;34m[\u001b[0m\u001b[0mind\u001b[0m\u001b[0;34m]\u001b[0m\u001b[0;34m+\u001b[0m\u001b[0;34m'.lcv'\u001b[0m\u001b[0;34m,\u001b[0m \u001b[0;34m'a'\u001b[0m\u001b[0;34m)\u001b[0m\u001b[0;34m\u001b[0m\u001b[0m\n",
      "\u001b[0;31mIOError\u001b[0m: [Errno 2] No such file or directory: 'mosaic_lcvs/V3.lcv'"
     ]
    }
   ],
   "source": [
    "variables.find_variables_by_coord_mosaic(optical_folder, target, working_folder=folder)"
   ]
  },
  {
   "cell_type": "markdown",
   "metadata": {},
   "source": [
    "# Make MIR catalog"
   ]
  },
  {
   "cell_type": "code",
   "execution_count": null,
   "metadata": {
    "collapsed": true
   },
   "outputs": [],
   "source": [
    "ids, raw_phot = read_dao.read_raw('optical_alf.raw')\n",
    "\n",
    "id_num = np.zeros(len(ids), dtype=int)\n",
    "x = np.zeros(len(ids), dtype=float)\n",
    "y = np.zeros(len(ids), dtype=float)\n",
    "mags = np.zeros((len(ids), (len(raw_phot[0])-7)/2), dtype=float)\n",
    "errs = np.zeros((len(ids), (len(raw_phot[0])-7)/2), dtype=float)\n",
    "avgs = np.zeros(len(ids), dtype=float)\n",
    "avg_err = np.zeros(len(ids), dtype=float)\n",
    "\n",
    "for ind, star in enumerate(ids):\n",
    "    id_num[ind] = raw_phot[ind][0]\n",
    "    x[ind] = raw_phot[ind][1]\n",
    "    y[ind] = raw_phot[ind][2]\n",
    "    mags[ind] = raw_phot[ind][5:-2:2]\n",
    "    errs[ind] = raw_phot[ind][6:-2:2]\n",
    "\n",
    "    good = mags[ind] < 90\n",
    "    data = mags[ind][good]\n",
    "    weights = 1/errs[ind][good]**2\n",
    "    weights = weights[abs(data-np.mean(data)) < 2.5*np.std(data)]\n",
    "    data = data[abs(data-np.mean(data)) < 2.5*np.std(data)]\n",
    "    avgs[ind] = np.average(data, weights=weights)\n",
    "    avg_err[ind] = np.sqrt(1/np.sum(weights))\n",
    "\n",
    "#    sm.robust.scale.huber(mags[ind][good])\n",
    "\n",
    "data = np.c_[id_num, x, y, avgs, avg_err]\n",
    "np.savetxt('catalog.txt',data, fmt='%8i %9.3f %9.3f %6.3f %5.3f')"
   ]
  }
 ],
 "metadata": {
  "kernelspec": {
   "display_name": "Python 2",
   "language": "python",
   "name": "python2"
  },
  "language_info": {
   "codemirror_mode": {
    "name": "ipython",
    "version": 2
   },
   "file_extension": ".py",
   "mimetype": "text/x-python",
   "name": "python",
   "nbconvert_exporter": "python",
   "pygments_lexer": "ipython2",
   "version": "2.7.13"
  }
 },
 "nbformat": 4,
 "nbformat_minor": 2
}
