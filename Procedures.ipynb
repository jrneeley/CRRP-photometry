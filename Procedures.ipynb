{
 "cells": [
  {
   "cell_type": "code",
   "execution_count": 1,
   "metadata": {
    "collapsed": true
   },
   "outputs": [],
   "source": [
    "import read_dao\n",
    "import numpy as np\n",
    "#import statsmodels.api as sm\n",
    "import lightcurves\n",
    "import glob\n",
    "import sys\n",
    "import variables"
   ]
  },
  {
   "cell_type": "code",
   "execution_count": 2,
   "metadata": {
    "collapsed": true
   },
   "outputs": [],
   "source": [
    "target = 'NGC6402'\n",
    "folder = '/Users/jrneeley/CRRP/'+target+'/'\n",
    "optical_folder = '/Users/jrneeley/CRRP/OpticalCatalogs/'\n"
   ]
  },
  {
   "cell_type": "markdown",
   "metadata": {},
   "source": [
    "# Search for variables in Clement catalog\n",
    "\n",
    "Finds all possible matches within 3 arcsec and plots their raw lightcurve"
   ]
  },
  {
   "cell_type": "code",
   "execution_count": 3,
   "metadata": {},
   "outputs": [
    {
     "name": "stdout",
     "output_type": "stream",
     "text": [
      "Reading optical catalog for NGC6402...\n",
      "Finished reading optical catalog.\n",
      "V3 - 5 matches\n",
      "Writing to file...\n"
     ]
    },
    {
     "ename": "IOError",
     "evalue": "[Errno 2] No such file or directory: 'mosaic_lcvs/V3.lcv'",
     "output_type": "error",
     "traceback": [
      "\u001b[0;31m---------------------------------------------------------------------------\u001b[0m",
      "\u001b[0;31mIOError\u001b[0m                                   Traceback (most recent call last)",
      "\u001b[0;32m<ipython-input-3-daf8577b99e4>\u001b[0m in \u001b[0;36m<module>\u001b[0;34m()\u001b[0m\n\u001b[0;32m----> 1\u001b[0;31m \u001b[0mvariables\u001b[0m\u001b[0;34m.\u001b[0m\u001b[0mfind_variables_by_coord_mosaic\u001b[0m\u001b[0;34m(\u001b[0m\u001b[0moptical_folder\u001b[0m\u001b[0;34m,\u001b[0m \u001b[0mtarget\u001b[0m\u001b[0;34m,\u001b[0m \u001b[0mworking_folder\u001b[0m\u001b[0;34m=\u001b[0m\u001b[0mfolder\u001b[0m\u001b[0;34m)\u001b[0m\u001b[0;34m\u001b[0m\u001b[0m\n\u001b[0m",
      "\u001b[0;32m/Users/jrneeley/CRRP/python/CRRP-photometry/variables.pyc\u001b[0m in \u001b[0;36mfind_variables_by_coord_mosaic\u001b[0;34m(optical_folder, target, working_folder)\u001b[0m\n\u001b[1;32m    101\u001b[0m             \u001b[0;32mif\u001b[0m \u001b[0mind\u001b[0m \u001b[0;34m==\u001b[0m \u001b[0;36m0\u001b[0m\u001b[0;34m:\u001b[0m\u001b[0;34m\u001b[0m\u001b[0m\n\u001b[1;32m    102\u001b[0m                 \u001b[0mvariable_star\u001b[0m \u001b[0;34m=\u001b[0m \u001b[0;34m'V'\u001b[0m\u001b[0;34m+\u001b[0m\u001b[0mdata\u001b[0m\u001b[0;34m[\u001b[0m\u001b[0;34m'id'\u001b[0m\u001b[0;34m]\u001b[0m\u001b[0;34m[\u001b[0m\u001b[0mobj\u001b[0m\u001b[0;34m]\u001b[0m\u001b[0;34m\u001b[0m\u001b[0m\n\u001b[0;32m--> 103\u001b[0;31m                 \u001b[0mlightcurves\u001b[0m\u001b[0;34m.\u001b[0m\u001b[0mmake_mosaic_lcv\u001b[0m\u001b[0;34m(\u001b[0m\u001b[0;34m[\u001b[0m\u001b[0;34m'I1'\u001b[0m\u001b[0;34m]\u001b[0m\u001b[0;34m,\u001b[0m \u001b[0;34m[\u001b[0m\u001b[0mvariable_star\u001b[0m\u001b[0;34m]\u001b[0m\u001b[0;34m,\u001b[0m \u001b[0;34m[\u001b[0m\u001b[0mstar\u001b[0m\u001b[0;34m]\u001b[0m\u001b[0;34m)\u001b[0m\u001b[0;34m\u001b[0m\u001b[0m\n\u001b[0m\u001b[1;32m    104\u001b[0m             \u001b[0;32mif\u001b[0m \u001b[0mind\u001b[0m \u001b[0;34m<=\u001b[0m \u001b[0;36m8\u001b[0m \u001b[0;32mand\u001b[0m \u001b[0mind\u001b[0m \u001b[0;34m>\u001b[0m \u001b[0;36m0\u001b[0m\u001b[0;34m:\u001b[0m\u001b[0;34m\u001b[0m\u001b[0m\n\u001b[1;32m    105\u001b[0m                 \u001b[0mvariable_star\u001b[0m \u001b[0;34m=\u001b[0m \u001b[0;34m'V'\u001b[0m\u001b[0;34m+\u001b[0m\u001b[0mdata\u001b[0m\u001b[0;34m[\u001b[0m\u001b[0;34m'id'\u001b[0m\u001b[0;34m]\u001b[0m\u001b[0;34m[\u001b[0m\u001b[0mobj\u001b[0m\u001b[0;34m]\u001b[0m\u001b[0;34m+\u001b[0m\u001b[0mcode\u001b[0m\u001b[0;34m[\u001b[0m\u001b[0mind\u001b[0m\u001b[0;34m-\u001b[0m\u001b[0;36m1\u001b[0m\u001b[0;34m]\u001b[0m\u001b[0;34m\u001b[0m\u001b[0m\n",
      "\u001b[0;32m/Users/jrneeley/CRRP/python/CRRP-photometry/lightcurves.pyc\u001b[0m in \u001b[0;36mmake_mosaic_lcv\u001b[0;34m(channels, stars, dao_ids)\u001b[0m\n\u001b[1;32m    115\u001b[0m                 ('c5', float), ('c6', float), ('c7', float), ('c8', float)])\n\u001b[1;32m    116\u001b[0m             \u001b[0;32mif\u001b[0m \u001b[0mchannel\u001b[0m \u001b[0;34m==\u001b[0m \u001b[0mchannels\u001b[0m\u001b[0;34m[\u001b[0m\u001b[0;36m0\u001b[0m\u001b[0;34m]\u001b[0m\u001b[0;34m:\u001b[0m\u001b[0;34m\u001b[0m\u001b[0m\n\u001b[0;32m--> 117\u001b[0;31m                 \u001b[0mf_handle\u001b[0m \u001b[0;34m=\u001b[0m \u001b[0mopen\u001b[0m\u001b[0;34m(\u001b[0m\u001b[0;34m'mosaic_lcvs/'\u001b[0m\u001b[0;34m+\u001b[0m\u001b[0mstars\u001b[0m\u001b[0;34m[\u001b[0m\u001b[0mind\u001b[0m\u001b[0;34m]\u001b[0m\u001b[0;34m+\u001b[0m\u001b[0;34m'.lcv'\u001b[0m\u001b[0;34m,\u001b[0m \u001b[0;34m'w'\u001b[0m\u001b[0;34m)\u001b[0m\u001b[0;34m\u001b[0m\u001b[0m\n\u001b[0m\u001b[1;32m    118\u001b[0m             \u001b[0;32melse\u001b[0m\u001b[0;34m:\u001b[0m\u001b[0;34m\u001b[0m\u001b[0m\n\u001b[1;32m    119\u001b[0m                 \u001b[0mf_handle\u001b[0m \u001b[0;34m=\u001b[0m \u001b[0mopen\u001b[0m\u001b[0;34m(\u001b[0m\u001b[0;34m'mosaic_lcvs/'\u001b[0m\u001b[0;34m+\u001b[0m\u001b[0mstars\u001b[0m\u001b[0;34m[\u001b[0m\u001b[0mind\u001b[0m\u001b[0;34m]\u001b[0m\u001b[0;34m+\u001b[0m\u001b[0;34m'.lcv'\u001b[0m\u001b[0;34m,\u001b[0m \u001b[0;34m'a'\u001b[0m\u001b[0;34m)\u001b[0m\u001b[0;34m\u001b[0m\u001b[0m\n",
      "\u001b[0;31mIOError\u001b[0m: [Errno 2] No such file or directory: 'mosaic_lcvs/V3.lcv'"
     ]
    }
   ],
   "source": [
    "variables.find_variables_by_coord_mosaic(optical_folder, target, working_folder=folder)"
   ]
  },
  {
   "cell_type": "markdown",
   "metadata": {},
   "source": [
    "# Make MIR catalog"
   ]
  },
  {
   "cell_type": "code",
   "execution_count": null,
   "metadata": {
    "collapsed": true
   },
   "outputs": [],
   "source": [
    "ids, raw_phot = read_dao.read_raw('optical_alf.raw')\n",
    "\n",
    "id_num = np.zeros(len(ids), dtype=int)\n",
    "x = np.zeros(len(ids), dtype=float)\n",
    "y = np.zeros(len(ids), dtype=float)\n",
    "mags = np.zeros((len(ids), (len(raw_phot[0])-7)/2), dtype=float)\n",
    "errs = np.zeros((len(ids), (len(raw_phot[0])-7)/2), dtype=float)\n",
    "avgs = np.zeros(len(ids), dtype=float)\n",
    "avg_err = np.zeros(len(ids), dtype=float)\n",
    "\n",
    "for ind, star in enumerate(ids):\n",
    "    id_num[ind] = raw_phot[ind][0]\n",
    "    x[ind] = raw_phot[ind][1]\n",
    "    y[ind] = raw_phot[ind][2]\n",
    "    mags[ind] = raw_phot[ind][5:-2:2]\n",
    "    errs[ind] = raw_phot[ind][6:-2:2]\n",
    "\n",
    "    good = mags[ind] < 90\n",
    "    data = mags[ind][good]\n",
    "    weights = 1/errs[ind][good]**2\n",
    "    weights = weights[abs(data-np.mean(data)) < 2.5*np.std(data)]\n",
    "    data = data[abs(data-np.mean(data)) < 2.5*np.std(data)]\n",
    "    avgs[ind] = np.average(data, weights=weights)\n",
    "    avg_err[ind] = np.sqrt(1/np.sum(weights))\n",
    "\n",
    "#    sm.robust.scale.huber(mags[ind][good])\n",
    "\n",
    "data = np.c_[id_num, x, y, avgs, avg_err]\n",
    "np.savetxt('catalog.txt',data, fmt='%8i %9.3f %9.3f %6.3f %5.3f')"
   ]
  }
 ],
 "metadata": {
  "kernelspec": {
   "display_name": "Python 2",
   "language": "python",
   "name": "python2"
  },
  "language_info": {
   "codemirror_mode": {
    "name": "ipython",
    "version": 2
   },
   "file_extension": ".py",
   "mimetype": "text/x-python",
   "name": "python",
   "nbconvert_exporter": "python",
   "pygments_lexer": "ipython2",
   "version": "2.7.13"
  }
 },
 "nbformat": 4,
 "nbformat_minor": 2
}
